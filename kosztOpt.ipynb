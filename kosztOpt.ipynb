{
 "cells": [
  {
   "cell_type": "code",
   "execution_count": 1,
   "metadata": {},
   "outputs": [],
   "source": [
    "from docplex.mp.model import Model"
   ]
  },
  {
   "cell_type": "code",
   "execution_count": 2,
   "metadata": {},
   "outputs": [],
   "source": [
    "model = Model()"
   ]
  },
  {
   "cell_type": "code",
   "execution_count": 3,
   "metadata": {},
   "outputs": [],
   "source": [
    "Int = 99999999999\n",
    "\n",
    "S = [i for i in range(1, 3)] \n",
    "D = [i for i in range(1, 4)] \n",
    "DK = [i for i in range(2, 4)]\n",
    "DP = [i for i in range(2, 4)] \n",
    "\n",
    "S1 = [\"a\",\"b\",\"c\"]\n",
    "S2 = [\"a\",\"b\",\"c\"]\n",
    "\n",
    "s = model.continuous_var_list(S, lb=0, name='s')\n",
    "d = model.integer_var_list(D, lb=0, name='d')\n",
    "dk = model.integer_var_list(DK, lb=0, name='dk')\n",
    "dp = model.integer_var_list(DP, lb=0, name='dp')\n",
    "\n",
    "s1 = model.continuous_var_list(S1, lb=0, name='s1')\n",
    "s2 = model.continuous_var_list(S2, lb=0, name='s2')\n",
    "\n",
    "koszt = model.continuous_var(lb=0, name='koszt')\n",
    "kosztU = model.continuous_var(lb=0, name='kosztU')\n",
    "kosztWykS = model.continuous_var(lb=0, name='kosztWykS')\n",
    "b = model.binary_var(name= \"b\")\n",
    "\n",
    "b1a = model.binary_var(name= \"b1a\")\n",
    "b1b = model.binary_var(name= \"b1b\")\n",
    "b2a = model.binary_var(name= \"b2a\")\n",
    "b2b = model.binary_var(name= \"b2b\")\n",
    "\n",
    "ps1 = model.continuous_var(lb=0, name='ps1')\n",
    "ps2 = model.continuous_var(lb=0, name='ps2')"
   ]
  },
  {
   "cell_type": "code",
   "execution_count": 4,
   "metadata": {},
   "outputs": [],
   "source": [
    "model.maximize(koszt)"
   ]
  },
  {
   "cell_type": "code",
   "execution_count": 5,
   "metadata": {},
   "outputs": [
    {
     "data": {
      "text/plain": [
       "docplex.mp.LinearConstraint[](koszt,EQ,kosztU+kosztWykS)"
      ]
     },
     "execution_count": 5,
     "metadata": {},
     "output_type": "execute_result"
    }
   ],
   "source": [
    "model.add_constraint(koszt == kosztU + kosztWykS)"
   ]
  },
  {
   "cell_type": "code",
   "execution_count": 6,
   "metadata": {},
   "outputs": [
    {
     "data": {
      "text/plain": [
       "docplex.mp.LinearConstraint[](b,EQ,199999999998dk_2)"
      ]
     },
     "execution_count": 6,
     "metadata": {},
     "output_type": "execute_result"
    }
   ],
   "source": [
    "model.add_constraint(kosztU == b*12000)\n",
    "model.add_constraint(Int*b == dk[0]+dk[1])\n",
    "model.add_constraint(b == Int*(dk[0]+dk[0]))"
   ]
  },
  {
   "cell_type": "code",
   "execution_count": 7,
   "metadata": {},
   "outputs": [
    {
     "data": {
      "text/plain": [
       "docplex.mp.LinearConstraint[](s_2,LE,9000)"
      ]
     },
     "execution_count": 7,
     "metadata": {},
     "output_type": "execute_result"
    }
   ],
   "source": [
    "model.add_constraint(kosztWykS == 150*s[0]+140*s[1]+ps1+ps2)\n",
    "model.add_constraint(ps1 == 14*s1[0]+11*s1[1]+8*s1[2])\n",
    "model.add_constraint(ps2 == 10*s2[0]+12*s2[1]+15*s2[2])\n",
    "model.add_constraint(s[0] <= 8000)\n",
    "model.add_constraint(s[1] <= 9000)"
   ]
  },
  {
   "cell_type": "code",
   "execution_count": 8,
   "metadata": {},
   "outputs": [
    {
     "data": {
      "text/plain": [
       "docplex.mp.LinearConstraint[](s1_c,LE,3341b1b)"
      ]
     },
     "execution_count": 8,
     "metadata": {},
     "output_type": "execute_result"
    }
   ],
   "source": [
    "model.add_constraint(s[0] == s1[0]+s1[1]+s1[2])\n",
    "model.add_constraint(1939*b1a <= s1[0])\n",
    "model.add_constraint(s1[0] <= 1939)\n",
    "model.add_constraint((4659-1939)*b1b <= s1[1])\n",
    "model.add_constraint(s1[1] <= (4659-1939)*b1a)\n",
    "model.add_constraint(0 <= s1[2])\n",
    "model.add_constraint(s1[2] <= (8000-4659)*b1b)"
   ]
  },
  {
   "cell_type": "code",
   "execution_count": 9,
   "metadata": {},
   "outputs": [
    {
     "data": {
      "text/plain": [
       "docplex.mp.LinearConstraint[](s2_c,LE,3155b2b)"
      ]
     },
     "execution_count": 9,
     "metadata": {},
     "output_type": "execute_result"
    }
   ],
   "source": [
    "model.add_constraint(s[1] == s2[0]+s2[1]+s2[2])\n",
    "model.add_constraint(2214*b2a <= s2[0])\n",
    "model.add_constraint(s2[0] <= 2214)\n",
    "model.add_constraint((5845-2214)*b2b <= s2[1])\n",
    "model.add_constraint(s2[1] <= (5845-2214)*b2a)\n",
    "model.add_constraint(0 <= s2[2])\n",
    "model.add_constraint(s2[2] <= (9000-5845)*b2b)"
   ]
  },
  {
   "cell_type": "code",
   "execution_count": 10,
   "metadata": {},
   "outputs": [
    {
     "data": {
      "text/plain": [
       "docplex.mp.LinearConstraint[](s_1+s_2,LE,11346)"
      ]
     },
     "execution_count": 10,
     "metadata": {},
     "output_type": "execute_result"
    }
   ],
   "source": [
    "model.add_constraint(d[0] == s[0]*0.6 + s[1]*0.1)\n",
    "model.add_constraint(d[1] == s[0]*0.3 + s[1]*0.6)\n",
    "model.add_constraint(d[2] == s[0]*0.1 + s[1]*0.3)\n",
    "model.add_constraint(s[0]+s[1] <= 11346)"
   ]
  },
  {
   "cell_type": "code",
   "execution_count": 11,
   "metadata": {},
   "outputs": [
    {
     "data": {
      "text/plain": [
       "docplex.mp.LinearConstraint[](d_3,EQ,dk_3+dp_3)"
      ]
     },
     "execution_count": 11,
     "metadata": {},
     "output_type": "execute_result"
    }
   ],
   "source": [
    "model.add_constraint(dk[0]+dk[1] <= 5011)\n",
    "model.add_constraint(d[1] == dk[0]+dp[0])\n",
    "model.add_constraint(d[2] == dk[1]+dp[1])"
   ]
  },
  {
   "cell_type": "code",
   "execution_count": 12,
   "metadata": {},
   "outputs": [
    {
     "name": "stdout",
     "output_type": "stream",
     "text": [
      "koszt: 1786986.000\n",
      "  s_1=7990.000\n",
      "  s_2=3350.000\n",
      "  d_1=5129\n",
      "  d_2=4407\n",
      "  d_3=1804\n",
      "  dp_2=4407\n",
      "  dp_3=1804\n",
      "  s1_a=1939.000\n",
      "  s1_b=2720.000\n",
      "  s1_c=3331.000\n",
      "  s2_a=2214.000\n",
      "  s2_b=1136.000\n",
      "  koszt=1786986.000\n",
      "  kosztWykS=1786986.000\n",
      "  b1a=1\n",
      "  b1b=1\n",
      "  b2a=1\n",
      "  ps1=83714.000\n",
      "  ps2=35772.000\n"
     ]
    }
   ],
   "source": [
    "sol = model.solve()\n",
    "model.print_solution()"
   ]
  },
  {
   "cell_type": "code",
   "execution_count": 13,
   "metadata": {},
   "outputs": [
    {
     "name": "stdout",
     "output_type": "stream",
     "text": [
      "0.00000055960147421412363742345861747362611993139580590650439262390\n"
     ]
    }
   ],
   "source": [
    "#lambda dla kosztu\n",
    "l = 1/(1786986 - 0)\n",
    "print(format(l, '.65f'))"
   ]
  },
  {
   "cell_type": "code",
   "execution_count": null,
   "metadata": {},
   "outputs": [],
   "source": []
  },
  {
   "cell_type": "code",
   "execution_count": null,
   "metadata": {},
   "outputs": [],
   "source": []
  }
 ],
 "metadata": {
  "kernelspec": {
   "display_name": "Python 3",
   "language": "python",
   "name": "python3"
  },
  "language_info": {
   "codemirror_mode": {
    "name": "ipython",
    "version": 3
   },
   "file_extension": ".py",
   "mimetype": "text/x-python",
   "name": "python",
   "nbconvert_exporter": "python",
   "pygments_lexer": "ipython3",
   "version": "3.7.6"
  }
 },
 "nbformat": 4,
 "nbformat_minor": 4
}
