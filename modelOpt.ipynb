{
 "cells": [
  {
   "cell_type": "code",
   "execution_count": 32,
   "metadata": {},
   "outputs": [],
   "source": [
    "#Głowny model, użyłem biblioteki docplex, która jest od IBM i jest to właściwie cplex tylko pod jupytera.\n",
    "from docplex.mp.model import Model"
   ]
  },
  {
   "cell_type": "code",
   "execution_count": 501,
   "metadata": {},
   "outputs": [
    {
     "data": {
      "text/plain": [
       "<docplex.mp.model.Model at 0x256c3b38f88>"
      ]
     },
     "execution_count": 501,
     "metadata": {},
     "output_type": "execute_result"
    }
   ],
   "source": [
    "model = Model()\n",
    "model"
   ]
  },
  {
   "cell_type": "code",
   "execution_count": 502,
   "metadata": {},
   "outputs": [],
   "source": [
    "asp =[1786986,1,0.5,1]\n",
    "\n",
    "eps = 0.000025\n",
    "beta = 0.001\n",
    "lamb = [0.0000005596,1,1,1]\n",
    "maxKoszt = 1786986\n",
    "Int = 99999999999999999\n",
    "\n",
    "S = [i for i in range(1, 3)] \n",
    "D = [i for i in range(1, 4)] \n",
    "DK = [i for i in range(2, 4)] \n",
    "DP = [i for i in range(2, 4)] \n",
    "K = [i for i in range(1, 3)] \n",
    "P = [i for i in range(1, 4)] \n",
    "K1P = [i for i in range(1, 3)] \n",
    "K2P = [i for i in range(1, 3)]\n",
    "Q = [0,1,2,3]\n",
    "Z = [0,1,2,3]\n",
    "Y = [0,1,2,3]\n",
    "\n",
    "\n",
    "s = model.continuous_var_list(S, lb=0, name='s')\n",
    "d = model.integer_var_list(D, lb=0, name='d')\n",
    "dk = model.integer_var_list(DK, lb=0, name='dk')\n",
    "dp = model.integer_var_list(DP, lb=0, name='dp')\n",
    "k = model.integer_var_list(K, lb=0, name='k')\n",
    "p = model.integer_var_list(P, lb=0, name='p')\n",
    "k1p = model.integer_var_list(K1P, lb=0, name='k1p')\n",
    "k2p = model.integer_var_list(K2P, lb=0, name='k2p')\n",
    "z = model.continuous_var_list(Z, name='z')\n",
    "y = model.continuous_var_list(Y, name='y')\n",
    "\n",
    "\n",
    "d1p1 = model.integer_var(lb=0, name='d1p_1')\n",
    "d1p3 = model.integer_var(lb=0, name='d1p_3')\n",
    "d2p2 = model.integer_var(lb=0, name='d2p_2')\n",
    "d3p2 = model.integer_var(lb=0, name='d3p_2')\n",
    "v = model.continuous_var(name='v')\n",
    "koszt = model.continuous_var(lb=0, name='koszt')\n",
    "kosztU = model.continuous_var(lb=0, name='kosztU')\n",
    "kosztWykS = model.continuous_var(lb=0, name='kosztWykS')\n",
    "b = model.binary_var(name= \"b\")\n",
    "\n",
    "\n",
    "S1 = [\"a\",\"b\",\"c\"]\n",
    "S2 = [\"a\",\"b\",\"c\"]\n",
    "\n",
    "s1 = model.integer_var_list(S1, lb=0, name='s1')\n",
    "s2 = model.integer_var_list(S2, lb=0, name='s2')\n",
    "\n",
    "b1a = model.binary_var(name= \"b1a\")\n",
    "b1b = model.binary_var(name= \"b1b\")\n",
    "b2a = model.binary_var(name= \"b2a\")\n",
    "b2b = model.binary_var(name= \"b2b\")\n",
    "\n",
    "\n",
    "ps1 = model.continuous_var(lb=0, name='ps1')\n",
    "ps2 = model.continuous_var(lb=0, name='ps2')"
   ]
  },
  {
   "cell_type": "code",
   "execution_count": 503,
   "metadata": {},
   "outputs": [],
   "source": [
    "model.maximize(v + eps*(z[0]+z[1]+z[2]+z[3]))"
   ]
  },
  {
   "cell_type": "code",
   "execution_count": 504,
   "metadata": {},
   "outputs": [
    {
     "data": {
      "text/plain": [
       "docplex.mp.LinearConstraint[](z_3,LE,y_3-1)"
      ]
     },
     "execution_count": 504,
     "metadata": {},
     "output_type": "execute_result"
    }
   ],
   "source": [
    "model.add_constraint(v <= z[0])\n",
    "model.add_constraint(z[0] <= beta*lamb[0]*(y[0]-asp[0]))\n",
    "model.add_constraint(z[0] <= lamb[0]*(y[0]-asp[0]))\n",
    "\n",
    "model.add_constraint(v <= z[1])\n",
    "model.add_constraint(z[1] <= beta*lamb[1]*(y[1]-asp[1]))\n",
    "model.add_constraint(z[1] <= lamb[1]*(y[1]-asp[1]))\n",
    "\n",
    "model.add_constraint(v <= z[2])\n",
    "model.add_constraint(z[2] <= beta*lamb[2]*(y[2]-asp[2]))\n",
    "model.add_constraint(z[2] <= lamb[2]*(y[2]-asp[2]))\n",
    "\n",
    "model.add_constraint(v <= z[3])\n",
    "model.add_constraint(z[3] <= beta*lamb[3]*(y[3]-asp[3]))\n",
    "model.add_constraint(z[3] <= lamb[3]*(y[3]-asp[3]))"
   ]
  },
  {
   "cell_type": "code",
   "execution_count": 505,
   "metadata": {},
   "outputs": [
    {
     "data": {
      "text/plain": [
       "docplex.mp.LinearConstraint[](y_3,EQ,0.001p_3)"
      ]
     },
     "execution_count": 505,
     "metadata": {},
     "output_type": "execute_result"
    }
   ],
   "source": [
    "model.add_constraint(y[0] == maxKoszt - koszt)\n",
    "\n",
    "model.add_constraint(y[1] == 1 - ((1490-p[0])/1490))\n",
    "model.add_constraint(y[2] == 1 - ((1490-p[1])/1490))\n",
    "model.add_constraint(y[3] == 1 - ((1490-p[2])/1490))\n"
   ]
  },
  {
   "cell_type": "code",
   "execution_count": 506,
   "metadata": {},
   "outputs": [
    {
     "data": {
      "text/plain": [
       "docplex.mp.LinearConstraint[](koszt,EQ,kosztU+kosztWykS)"
      ]
     },
     "execution_count": 506,
     "metadata": {},
     "output_type": "execute_result"
    }
   ],
   "source": [
    "model.add_constraint(koszt == kosztU + kosztWykS)"
   ]
  },
  {
   "cell_type": "code",
   "execution_count": 507,
   "metadata": {},
   "outputs": [
    {
     "data": {
      "text/plain": [
       "docplex.mp.LinearConstraint[](b,LE,99999999999999999dk_2+99999999999999999dk_3)"
      ]
     },
     "execution_count": 507,
     "metadata": {},
     "output_type": "execute_result"
    }
   ],
   "source": [
    "model.add_constraint(kosztU == b*12000)\n",
    "model.add_constraint(Int*b >= dk[0]+dk[1])\n",
    "model.add_constraint(b <= Int*(dk[0]+dk[1]))"
   ]
  },
  {
   "cell_type": "code",
   "execution_count": 508,
   "metadata": {},
   "outputs": [
    {
     "data": {
      "text/plain": [
       "docplex.mp.LinearConstraint[](s_2,LE,9000)"
      ]
     },
     "execution_count": 508,
     "metadata": {},
     "output_type": "execute_result"
    }
   ],
   "source": [
    "model.add_constraint(kosztWykS == 150*s[0]+140*s[1]+ps1+ps2)\n",
    "model.add_constraint(ps1 == 14*s1[0]+11*s1[1]+8*s1[2])\n",
    "model.add_constraint(ps2 == 10*s2[0]+12*s2[1]+15*s2[2])\n",
    "model.add_constraint(s[0] <= 8000)\n",
    "model.add_constraint(s[1] <= 9000)"
   ]
  },
  {
   "cell_type": "code",
   "execution_count": 509,
   "metadata": {},
   "outputs": [
    {
     "data": {
      "text/plain": [
       "docplex.mp.LinearConstraint[](s1_c,LE,3341b1b)"
      ]
     },
     "execution_count": 509,
     "metadata": {},
     "output_type": "execute_result"
    }
   ],
   "source": [
    "model.add_constraint(s[0] == s1[0]+s1[1]+s1[2])\n",
    "model.add_constraint(1939*b1a <= s1[0])\n",
    "model.add_constraint(s1[0] <= 1939)\n",
    "model.add_constraint((4659-1939)*b1b <= s1[1])\n",
    "model.add_constraint(s1[1] <= (4659-1939)*b1a)\n",
    "model.add_constraint(0 <= s1[2])\n",
    "model.add_constraint(s1[2] <= (8000-4659)*b1b)"
   ]
  },
  {
   "cell_type": "code",
   "execution_count": 510,
   "metadata": {},
   "outputs": [
    {
     "data": {
      "text/plain": [
       "docplex.mp.LinearConstraint[](s2_c,LE,3155b2b)"
      ]
     },
     "execution_count": 510,
     "metadata": {},
     "output_type": "execute_result"
    }
   ],
   "source": [
    "model.add_constraint(s[1] == s2[0]+s2[1]+s2[2])\n",
    "model.add_constraint(2214*b2a <= s2[0])\n",
    "model.add_constraint(s2[0] <= 2214)\n",
    "model.add_constraint((5845-2214)*b2b <= s2[1])\n",
    "model.add_constraint(s2[1] <= (5845-2214)*b2a)\n",
    "model.add_constraint(0 <= s2[2])\n",
    "model.add_constraint(s2[2] <= (9000-5845)*b2b)"
   ]
  },
  {
   "cell_type": "code",
   "execution_count": 511,
   "metadata": {},
   "outputs": [
    {
     "data": {
      "text/plain": [
       "docplex.mp.LinearConstraint[](s_1+s_2,LE,11346)"
      ]
     },
     "execution_count": 511,
     "metadata": {},
     "output_type": "execute_result"
    }
   ],
   "source": [
    "model.add_constraint(d[0] == s[0]*0.6 + s[1]*0.1)\n",
    "model.add_constraint(d[1] == s[0]*0.3 + s[1]*0.6)\n",
    "model.add_constraint(d[2] == s[0]*0.1 + s[1]*0.3)\n",
    "model.add_constraint(s[0]+s[1] <= 11346)"
   ]
  },
  {
   "cell_type": "code",
   "execution_count": 512,
   "metadata": {},
   "outputs": [
    {
     "data": {
      "text/plain": [
       "docplex.mp.LinearConstraint[](k_2,EQ,0.600dk_2+0.400dk_3)"
      ]
     },
     "execution_count": 512,
     "metadata": {},
     "output_type": "execute_result"
    }
   ],
   "source": [
    "model.add_constraint(dk[0]+dk[1] <= 5011)\n",
    "model.add_constraint(d[1] == dk[0]+dp[0])\n",
    "model.add_constraint(d[2] == dk[1]+dp[1])\n",
    "model.add_constraint(k[0] == dk[0]*0.4+dk[1]*0.6)\n",
    "model.add_constraint(k[1] == dk[0]*0.6+dk[1]*0.4)"
   ]
  },
  {
   "cell_type": "code",
   "execution_count": 513,
   "metadata": {},
   "outputs": [
    {
     "data": {
      "text/plain": [
       "docplex.mp.LinearConstraint[](p_3,EQ,d1p_3)"
      ]
     },
     "execution_count": 513,
     "metadata": {},
     "output_type": "execute_result"
    }
   ],
   "source": [
    "model.add_constraint(k1p[0] + k1p[1] == k[0])\n",
    "model.add_constraint(k2p[0] + k2p[1] == k[1])\n",
    "model.add_constraint(d1p1 + d1p3 == d[0])\n",
    "model.add_constraint(d2p2 == dp[0])\n",
    "model.add_constraint(d3p2 == dp[1])\n",
    "model.add_constraint(p[0] == k1p[0]+k2p[0]+d1p1)\n",
    "model.add_constraint(p[1] == k1p[1]+k2p[1]+d2p2+d3p2)\n",
    "model.add_constraint(p[2] == d1p3)"
   ]
  },
  {
   "cell_type": "code",
   "execution_count": 514,
   "metadata": {},
   "outputs": [
    {
     "name": "stdout",
     "output_type": "stream",
     "text": [
      "Model: docplex_model34\n",
      " - number of variables: 47\n",
      "   - binary=5, integer=26, continuous=16\n",
      " - number of constraints: 56\n",
      "   - linear=56\n",
      " - parameters: defaults\n",
      " - objective: maximize\n",
      " - problem type is: MILP\n"
     ]
    }
   ],
   "source": [
    "model.print_information()"
   ]
  },
  {
   "cell_type": "code",
   "execution_count": 515,
   "metadata": {},
   "outputs": [],
   "source": [
    "sol1 = model.solve()\n",
    "model.print_solution()"
   ]
  },
  {
   "cell_type": "code",
   "execution_count": null,
   "metadata": {},
   "outputs": [],
   "source": []
  },
  {
   "cell_type": "code",
   "execution_count": null,
   "metadata": {},
   "outputs": [],
   "source": []
  },
  {
   "cell_type": "code",
   "execution_count": null,
   "metadata": {},
   "outputs": [],
   "source": []
  }
 ],
 "metadata": {
  "kernelspec": {
   "display_name": "Python 3",
   "language": "python",
   "name": "python3"
  },
  "language_info": {
   "codemirror_mode": {
    "name": "ipython",
    "version": 3
   },
   "file_extension": ".py",
   "mimetype": "text/x-python",
   "name": "python",
   "nbconvert_exporter": "python",
   "pygments_lexer": "ipython3",
   "version": "3.7.6"
  }
 },
 "nbformat": 4,
 "nbformat_minor": 4
}
